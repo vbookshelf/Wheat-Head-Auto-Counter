{
 "cells": [
  {
   "cell_type": "code",
   "execution_count": 1,
   "id": "d17cbaf5",
   "metadata": {
    "execution": {
     "iopub.execute_input": "2023-01-13T03:06:45.486054Z",
     "iopub.status.busy": "2023-01-13T03:06:45.484486Z",
     "iopub.status.idle": "2023-01-13T03:06:45.497241Z",
     "shell.execute_reply": "2023-01-13T03:06:45.495433Z"
    },
    "papermill": {
     "duration": 0.032264,
     "end_time": "2023-01-13T03:06:45.500211",
     "exception": false,
     "start_time": "2023-01-13T03:06:45.467947",
     "status": "completed"
    },
    "tags": []
   },
   "outputs": [],
   "source": [
    "# Approach\n",
    "\n",
    "# 1- Separte out class 0 and create folds (df0)\n",
    "# 2- Separate out class 1 and create 7 folds that are stratified by domain (df1)\n",
    "# 3- Concat df0 and df1"
   ]
  },
  {
   "cell_type": "code",
   "execution_count": 2,
   "id": "a8892540",
   "metadata": {
    "execution": {
     "iopub.execute_input": "2023-01-13T03:06:45.523707Z",
     "iopub.status.busy": "2023-01-13T03:06:45.522895Z",
     "iopub.status.idle": "2023-01-13T03:06:45.757968Z",
     "shell.execute_reply": "2023-01-13T03:06:45.756704Z"
    },
    "papermill": {
     "duration": 0.249756,
     "end_time": "2023-01-13T03:06:45.761267",
     "exception": false,
     "start_time": "2023-01-13T03:06:45.511511",
     "status": "completed"
    },
    "tags": []
   },
   "outputs": [],
   "source": [
    "import pandas as pd\n",
    "import numpy as np\n",
    "import os\n",
    "import cv2\n",
    "\n",
    "from tqdm import tqdm\n",
    "\n",
    "import ast\n",
    "import matplotlib.pyplot as plt"
   ]
  },
  {
   "cell_type": "code",
   "execution_count": 3,
   "id": "f3dbaffb",
   "metadata": {
    "execution": {
     "iopub.execute_input": "2023-01-13T03:06:45.795281Z",
     "iopub.status.busy": "2023-01-13T03:06:45.794147Z",
     "iopub.status.idle": "2023-01-13T03:06:45.800929Z",
     "shell.execute_reply": "2023-01-13T03:06:45.799245Z"
    },
    "papermill": {
     "duration": 0.027629,
     "end_time": "2023-01-13T03:06:45.803582",
     "exception": false,
     "start_time": "2023-01-13T03:06:45.775953",
     "status": "completed"
    },
    "tags": []
   },
   "outputs": [],
   "source": [
    "base_path = '../input/global-wheat-head-dataset-2021/gwhd_2021/'"
   ]
  },
  {
   "cell_type": "code",
   "execution_count": 4,
   "id": "0b4e2e0d",
   "metadata": {
    "execution": {
     "iopub.execute_input": "2023-01-13T03:06:45.828547Z",
     "iopub.status.busy": "2023-01-13T03:06:45.827676Z",
     "iopub.status.idle": "2023-01-13T03:06:45.857502Z",
     "shell.execute_reply": "2023-01-13T03:06:45.856187Z"
    },
    "papermill": {
     "duration": 0.045479,
     "end_time": "2023-01-13T03:06:45.860196",
     "exception": false,
     "start_time": "2023-01-13T03:06:45.814717",
     "status": "completed"
    },
    "tags": []
   },
   "outputs": [
    {
     "data": {
      "text/plain": [
       "['competition_train.csv',\n",
       " 'metadata_dataset.csv',\n",
       " 'images',\n",
       " 'competition_test.csv',\n",
       " 'competition_val.csv']"
      ]
     },
     "execution_count": 4,
     "metadata": {},
     "output_type": "execute_result"
    }
   ],
   "source": [
    "os.listdir('../input/global-wheat-head-dataset-2021/gwhd_2021/')"
   ]
  },
  {
   "cell_type": "code",
   "execution_count": 5,
   "id": "9d15a945",
   "metadata": {
    "execution": {
     "iopub.execute_input": "2023-01-13T03:06:45.882865Z",
     "iopub.status.busy": "2023-01-13T03:06:45.881859Z",
     "iopub.status.idle": "2023-01-13T03:06:45.895517Z",
     "shell.execute_reply": "2023-01-13T03:06:45.894147Z"
    },
    "papermill": {
     "duration": 0.028724,
     "end_time": "2023-01-13T03:06:45.898748",
     "exception": false,
     "start_time": "2023-01-13T03:06:45.870024",
     "status": "completed"
    },
    "tags": []
   },
   "outputs": [],
   "source": [
    "NUM_FOLDS = 7\n",
    "\n",
    "CHOSEN_FOLD = 0"
   ]
  },
  {
   "cell_type": "markdown",
   "id": "394a31ce",
   "metadata": {
    "papermill": {
     "duration": 0.01073,
     "end_time": "2023-01-13T03:06:45.925401",
     "exception": false,
     "start_time": "2023-01-13T03:06:45.914671",
     "status": "completed"
    },
    "tags": []
   },
   "source": [
    "## Load the data"
   ]
  },
  {
   "cell_type": "code",
   "execution_count": 6,
   "id": "ac275931",
   "metadata": {
    "execution": {
     "iopub.execute_input": "2023-01-13T03:06:45.949135Z",
     "iopub.status.busy": "2023-01-13T03:06:45.948109Z",
     "iopub.status.idle": "2023-01-13T03:06:46.080661Z",
     "shell.execute_reply": "2023-01-13T03:06:46.079066Z"
    },
    "papermill": {
     "duration": 0.148762,
     "end_time": "2023-01-13T03:06:46.084852",
     "exception": false,
     "start_time": "2023-01-13T03:06:45.936090",
     "status": "completed"
    },
    "tags": []
   },
   "outputs": [
    {
     "name": "stdout",
     "output_type": "stream",
     "text": [
      "(3657, 4)\n"
     ]
    },
    {
     "data": {
      "text/html": [
       "<div>\n",
       "<style scoped>\n",
       "    .dataframe tbody tr th:only-of-type {\n",
       "        vertical-align: middle;\n",
       "    }\n",
       "\n",
       "    .dataframe tbody tr th {\n",
       "        vertical-align: top;\n",
       "    }\n",
       "\n",
       "    .dataframe thead th {\n",
       "        text-align: right;\n",
       "    }\n",
       "</style>\n",
       "<table border=\"1\" class=\"dataframe\">\n",
       "  <thead>\n",
       "    <tr style=\"text-align: right;\">\n",
       "      <th></th>\n",
       "      <th>image_name</th>\n",
       "      <th>BoxesString</th>\n",
       "      <th>domain</th>\n",
       "      <th>source</th>\n",
       "    </tr>\n",
       "  </thead>\n",
       "  <tbody>\n",
       "    <tr>\n",
       "      <th>0</th>\n",
       "      <td>4563856cc6d75c670eafd86d5eb7245fbe8f273c28f9e3...</td>\n",
       "      <td>99 692 160 764;641 27 697 115;935 978 1012 102...</td>\n",
       "      <td>Arvalis_1</td>\n",
       "      <td>train</td>\n",
       "    </tr>\n",
       "    <tr>\n",
       "      <th>1</th>\n",
       "      <td>a2a15938845d9812de03bd44799c4b1bf856a8ad11752e...</td>\n",
       "      <td>230 143 321 222;928 929 1015 1004;485 557 604 ...</td>\n",
       "      <td>Arvalis_1</td>\n",
       "      <td>train</td>\n",
       "    </tr>\n",
       "    <tr>\n",
       "      <th>2</th>\n",
       "      <td>401f89a2bb6ab63e3f406bd59b9cadccfe953230feb6cd...</td>\n",
       "      <td>440 239 544 288;333 538 429 594;913 171 963 20...</td>\n",
       "      <td>Arvalis_1</td>\n",
       "      <td>train</td>\n",
       "    </tr>\n",
       "    <tr>\n",
       "      <th>3</th>\n",
       "      <td>0a3937653483c36dfb4d957b6f82ae96dbdc7ba36cc3d8...</td>\n",
       "      <td>112 274 188 303;892 812 958 847;0 889 67 928;1...</td>\n",
       "      <td>Arvalis_1</td>\n",
       "      <td>train</td>\n",
       "    </tr>\n",
       "    <tr>\n",
       "      <th>4</th>\n",
       "      <td>be1652110a44acd24b42784356e965ce84a04893c3f1bb...</td>\n",
       "      <td>810 204 863 314;360 231 425 408;452 348 510 47...</td>\n",
       "      <td>Arvalis_1</td>\n",
       "      <td>train</td>\n",
       "    </tr>\n",
       "  </tbody>\n",
       "</table>\n",
       "</div>"
      ],
      "text/plain": [
       "                                          image_name  \\\n",
       "0  4563856cc6d75c670eafd86d5eb7245fbe8f273c28f9e3...   \n",
       "1  a2a15938845d9812de03bd44799c4b1bf856a8ad11752e...   \n",
       "2  401f89a2bb6ab63e3f406bd59b9cadccfe953230feb6cd...   \n",
       "3  0a3937653483c36dfb4d957b6f82ae96dbdc7ba36cc3d8...   \n",
       "4  be1652110a44acd24b42784356e965ce84a04893c3f1bb...   \n",
       "\n",
       "                                         BoxesString     domain source  \n",
       "0  99 692 160 764;641 27 697 115;935 978 1012 102...  Arvalis_1  train  \n",
       "1  230 143 321 222;928 929 1015 1004;485 557 604 ...  Arvalis_1  train  \n",
       "2  440 239 544 288;333 538 429 594;913 171 963 20...  Arvalis_1  train  \n",
       "3  112 274 188 303;892 812 958 847;0 889 67 928;1...  Arvalis_1  train  \n",
       "4  810 204 863 314;360 231 425 408;452 348 510 47...  Arvalis_1  train  "
      ]
     },
     "execution_count": 6,
     "metadata": {},
     "output_type": "execute_result"
    }
   ],
   "source": [
    "# Load the train data\n",
    "\n",
    "path = base_path + 'competition_train.csv'\n",
    "df_train = pd.read_csv(path)\n",
    "\n",
    "# Create a new column\n",
    "df_train['source'] = 'train'\n",
    "\n",
    "print(df_train.shape)\n",
    "\n",
    "df_train.head()"
   ]
  },
  {
   "cell_type": "code",
   "execution_count": 7,
   "id": "8c8de1c4",
   "metadata": {
    "execution": {
     "iopub.execute_input": "2023-01-13T03:06:46.118420Z",
     "iopub.status.busy": "2023-01-13T03:06:46.117592Z",
     "iopub.status.idle": "2023-01-13T03:06:46.168802Z",
     "shell.execute_reply": "2023-01-13T03:06:46.167163Z"
    },
    "papermill": {
     "duration": 0.071377,
     "end_time": "2023-01-13T03:06:46.171894",
     "exception": false,
     "start_time": "2023-01-13T03:06:46.100517",
     "status": "completed"
    },
    "tags": []
   },
   "outputs": [
    {
     "name": "stdout",
     "output_type": "stream",
     "text": [
      "(1476, 4)\n"
     ]
    },
    {
     "data": {
      "text/html": [
       "<div>\n",
       "<style scoped>\n",
       "    .dataframe tbody tr th:only-of-type {\n",
       "        vertical-align: middle;\n",
       "    }\n",
       "\n",
       "    .dataframe tbody tr th {\n",
       "        vertical-align: top;\n",
       "    }\n",
       "\n",
       "    .dataframe thead th {\n",
       "        text-align: right;\n",
       "    }\n",
       "</style>\n",
       "<table border=\"1\" class=\"dataframe\">\n",
       "  <thead>\n",
       "    <tr style=\"text-align: right;\">\n",
       "      <th></th>\n",
       "      <th>image_name</th>\n",
       "      <th>BoxesString</th>\n",
       "      <th>domain</th>\n",
       "      <th>source</th>\n",
       "    </tr>\n",
       "  </thead>\n",
       "  <tbody>\n",
       "    <tr>\n",
       "      <th>0</th>\n",
       "      <td>e6b6a900e5c54cd5d8b0649768c361512cff1813409319...</td>\n",
       "      <td>0 30 109 119;453 617 561 661;450 441 652 493;5...</td>\n",
       "      <td>Usask_1</td>\n",
       "      <td>val</td>\n",
       "    </tr>\n",
       "    <tr>\n",
       "      <th>1</th>\n",
       "      <td>53889799be1319296f102fa09a512463c27316a428bb9f...</td>\n",
       "      <td>38 370 88 443;924 824 964 874;0 191 39 265;828...</td>\n",
       "      <td>Usask_1</td>\n",
       "      <td>val</td>\n",
       "    </tr>\n",
       "    <tr>\n",
       "      <th>2</th>\n",
       "      <td>ec8f9365ca93eb9dab075c64e5c8b32edd4f8993e17b89...</td>\n",
       "      <td>884 932 1024 990;828 53 1024 206;607 633 681 7...</td>\n",
       "      <td>Usask_1</td>\n",
       "      <td>val</td>\n",
       "    </tr>\n",
       "    <tr>\n",
       "      <th>3</th>\n",
       "      <td>48bab0505514c876207b4ede1c60cc906947ca02bb4277...</td>\n",
       "      <td>284 114 352 181;421 0 533 90;910 326 954 409;8...</td>\n",
       "      <td>Usask_1</td>\n",
       "      <td>val</td>\n",
       "    </tr>\n",
       "    <tr>\n",
       "      <th>4</th>\n",
       "      <td>44bf4657132a886bea1b74e105c3aadfa41ba7a2ae9d7a...</td>\n",
       "      <td>94 0 241 183;173 217 318 338;401 371 606 472;3...</td>\n",
       "      <td>Usask_1</td>\n",
       "      <td>val</td>\n",
       "    </tr>\n",
       "  </tbody>\n",
       "</table>\n",
       "</div>"
      ],
      "text/plain": [
       "                                          image_name  \\\n",
       "0  e6b6a900e5c54cd5d8b0649768c361512cff1813409319...   \n",
       "1  53889799be1319296f102fa09a512463c27316a428bb9f...   \n",
       "2  ec8f9365ca93eb9dab075c64e5c8b32edd4f8993e17b89...   \n",
       "3  48bab0505514c876207b4ede1c60cc906947ca02bb4277...   \n",
       "4  44bf4657132a886bea1b74e105c3aadfa41ba7a2ae9d7a...   \n",
       "\n",
       "                                         BoxesString   domain source  \n",
       "0  0 30 109 119;453 617 561 661;450 441 652 493;5...  Usask_1    val  \n",
       "1  38 370 88 443;924 824 964 874;0 191 39 265;828...  Usask_1    val  \n",
       "2  884 932 1024 990;828 53 1024 206;607 633 681 7...  Usask_1    val  \n",
       "3  284 114 352 181;421 0 533 90;910 326 954 409;8...  Usask_1    val  \n",
       "4  94 0 241 183;173 217 318 338;401 371 606 472;3...  Usask_1    val  "
      ]
     },
     "execution_count": 7,
     "metadata": {},
     "output_type": "execute_result"
    }
   ],
   "source": [
    "# Load the val data\n",
    "\n",
    "path = base_path + 'competition_val.csv'\n",
    "df_val = pd.read_csv(path)\n",
    "\n",
    "# Create a new column\n",
    "df_val['source'] = 'val'\n",
    "\n",
    "print(df_val.shape)\n",
    "\n",
    "df_val.head()"
   ]
  },
  {
   "cell_type": "code",
   "execution_count": 8,
   "id": "a4927ab4",
   "metadata": {
    "execution": {
     "iopub.execute_input": "2023-01-13T03:06:46.200928Z",
     "iopub.status.busy": "2023-01-13T03:06:46.199901Z",
     "iopub.status.idle": "2023-01-13T03:06:46.273703Z",
     "shell.execute_reply": "2023-01-13T03:06:46.271400Z"
    },
    "papermill": {
     "duration": 0.090286,
     "end_time": "2023-01-13T03:06:46.277560",
     "exception": false,
     "start_time": "2023-01-13T03:06:46.187274",
     "status": "completed"
    },
    "tags": []
   },
   "outputs": [
    {
     "name": "stdout",
     "output_type": "stream",
     "text": [
      "(1382, 4)\n"
     ]
    },
    {
     "data": {
      "text/html": [
       "<div>\n",
       "<style scoped>\n",
       "    .dataframe tbody tr th:only-of-type {\n",
       "        vertical-align: middle;\n",
       "    }\n",
       "\n",
       "    .dataframe tbody tr th {\n",
       "        vertical-align: top;\n",
       "    }\n",
       "\n",
       "    .dataframe thead th {\n",
       "        text-align: right;\n",
       "    }\n",
       "</style>\n",
       "<table border=\"1\" class=\"dataframe\">\n",
       "  <thead>\n",
       "    <tr style=\"text-align: right;\">\n",
       "      <th></th>\n",
       "      <th>image_name</th>\n",
       "      <th>BoxesString</th>\n",
       "      <th>domain</th>\n",
       "      <th>source</th>\n",
       "    </tr>\n",
       "  </thead>\n",
       "  <tbody>\n",
       "    <tr>\n",
       "      <th>0</th>\n",
       "      <td>255b6ca9fea63f44125e5174bc932470b604c760430715...</td>\n",
       "      <td>481 820 604 922;655 957 732 1024;930 926 1013 ...</td>\n",
       "      <td>UQ_7</td>\n",
       "      <td>test</td>\n",
       "    </tr>\n",
       "    <tr>\n",
       "      <th>1</th>\n",
       "      <td>7f5eb37cab658de6fd0d688bf27f16e423794fed6184d8...</td>\n",
       "      <td>896 911 977 955;800 898 821 941;770 867 804 90...</td>\n",
       "      <td>UQ_7</td>\n",
       "      <td>test</td>\n",
       "    </tr>\n",
       "    <tr>\n",
       "      <th>2</th>\n",
       "      <td>7bcfff43b356f4a94948367782aa704a37ff4579baf45d...</td>\n",
       "      <td>892 993 922 1024;844 943 871 965;758 926 801 9...</td>\n",
       "      <td>UQ_7</td>\n",
       "      <td>test</td>\n",
       "    </tr>\n",
       "    <tr>\n",
       "      <th>3</th>\n",
       "      <td>e535384eda9d0f9c6ac57dd9397d5d614e4cad48c144d8...</td>\n",
       "      <td>648 886 722 1024;392 950 507 1024;876 677 981 ...</td>\n",
       "      <td>UQ_7</td>\n",
       "      <td>test</td>\n",
       "    </tr>\n",
       "    <tr>\n",
       "      <th>4</th>\n",
       "      <td>66e9fa7379fd7b7fd64024ac1b03b8e56f9ad020c10635...</td>\n",
       "      <td>559 939 623 1009;775 875 829 919;853 883 888 9...</td>\n",
       "      <td>UQ_7</td>\n",
       "      <td>test</td>\n",
       "    </tr>\n",
       "  </tbody>\n",
       "</table>\n",
       "</div>"
      ],
      "text/plain": [
       "                                          image_name  \\\n",
       "0  255b6ca9fea63f44125e5174bc932470b604c760430715...   \n",
       "1  7f5eb37cab658de6fd0d688bf27f16e423794fed6184d8...   \n",
       "2  7bcfff43b356f4a94948367782aa704a37ff4579baf45d...   \n",
       "3  e535384eda9d0f9c6ac57dd9397d5d614e4cad48c144d8...   \n",
       "4  66e9fa7379fd7b7fd64024ac1b03b8e56f9ad020c10635...   \n",
       "\n",
       "                                         BoxesString domain source  \n",
       "0  481 820 604 922;655 957 732 1024;930 926 1013 ...   UQ_7   test  \n",
       "1  896 911 977 955;800 898 821 941;770 867 804 90...   UQ_7   test  \n",
       "2  892 993 922 1024;844 943 871 965;758 926 801 9...   UQ_7   test  \n",
       "3  648 886 722 1024;392 950 507 1024;876 677 981 ...   UQ_7   test  \n",
       "4  559 939 623 1009;775 875 829 919;853 883 888 9...   UQ_7   test  "
      ]
     },
     "execution_count": 8,
     "metadata": {},
     "output_type": "execute_result"
    }
   ],
   "source": [
    "# Load the test data\n",
    "\n",
    "path = base_path + 'competition_test.csv'\n",
    "df_test = pd.read_csv(path)\n",
    "\n",
    "# Create a new column\n",
    "df_test['source'] = 'test'\n",
    "\n",
    "print(df_test.shape)\n",
    "\n",
    "df_test.head()"
   ]
  },
  {
   "cell_type": "markdown",
   "id": "4e305b43",
   "metadata": {
    "papermill": {
     "duration": 0.012191,
     "end_time": "2023-01-13T03:06:46.300814",
     "exception": false,
     "start_time": "2023-01-13T03:06:46.288623",
     "status": "completed"
    },
    "tags": []
   },
   "source": [
    "## Concat the data"
   ]
  },
  {
   "cell_type": "code",
   "execution_count": 9,
   "id": "d5322b63",
   "metadata": {
    "execution": {
     "iopub.execute_input": "2023-01-13T03:06:46.327080Z",
     "iopub.status.busy": "2023-01-13T03:06:46.325581Z",
     "iopub.status.idle": "2023-01-13T03:06:46.344100Z",
     "shell.execute_reply": "2023-01-13T03:06:46.342907Z"
    },
    "papermill": {
     "duration": 0.035072,
     "end_time": "2023-01-13T03:06:46.346784",
     "exception": false,
     "start_time": "2023-01-13T03:06:46.311712",
     "status": "completed"
    },
    "tags": []
   },
   "outputs": [
    {
     "name": "stdout",
     "output_type": "stream",
     "text": [
      "(6515, 4)\n"
     ]
    },
    {
     "data": {
      "text/html": [
       "<div>\n",
       "<style scoped>\n",
       "    .dataframe tbody tr th:only-of-type {\n",
       "        vertical-align: middle;\n",
       "    }\n",
       "\n",
       "    .dataframe tbody tr th {\n",
       "        vertical-align: top;\n",
       "    }\n",
       "\n",
       "    .dataframe thead th {\n",
       "        text-align: right;\n",
       "    }\n",
       "</style>\n",
       "<table border=\"1\" class=\"dataframe\">\n",
       "  <thead>\n",
       "    <tr style=\"text-align: right;\">\n",
       "      <th></th>\n",
       "      <th>image_name</th>\n",
       "      <th>BoxesString</th>\n",
       "      <th>domain</th>\n",
       "      <th>source</th>\n",
       "    </tr>\n",
       "  </thead>\n",
       "  <tbody>\n",
       "    <tr>\n",
       "      <th>0</th>\n",
       "      <td>4563856cc6d75c670eafd86d5eb7245fbe8f273c28f9e3...</td>\n",
       "      <td>99 692 160 764;641 27 697 115;935 978 1012 102...</td>\n",
       "      <td>Arvalis_1</td>\n",
       "      <td>train</td>\n",
       "    </tr>\n",
       "    <tr>\n",
       "      <th>1</th>\n",
       "      <td>a2a15938845d9812de03bd44799c4b1bf856a8ad11752e...</td>\n",
       "      <td>230 143 321 222;928 929 1015 1004;485 557 604 ...</td>\n",
       "      <td>Arvalis_1</td>\n",
       "      <td>train</td>\n",
       "    </tr>\n",
       "    <tr>\n",
       "      <th>2</th>\n",
       "      <td>401f89a2bb6ab63e3f406bd59b9cadccfe953230feb6cd...</td>\n",
       "      <td>440 239 544 288;333 538 429 594;913 171 963 20...</td>\n",
       "      <td>Arvalis_1</td>\n",
       "      <td>train</td>\n",
       "    </tr>\n",
       "    <tr>\n",
       "      <th>3</th>\n",
       "      <td>0a3937653483c36dfb4d957b6f82ae96dbdc7ba36cc3d8...</td>\n",
       "      <td>112 274 188 303;892 812 958 847;0 889 67 928;1...</td>\n",
       "      <td>Arvalis_1</td>\n",
       "      <td>train</td>\n",
       "    </tr>\n",
       "    <tr>\n",
       "      <th>4</th>\n",
       "      <td>be1652110a44acd24b42784356e965ce84a04893c3f1bb...</td>\n",
       "      <td>810 204 863 314;360 231 425 408;452 348 510 47...</td>\n",
       "      <td>Arvalis_1</td>\n",
       "      <td>train</td>\n",
       "    </tr>\n",
       "  </tbody>\n",
       "</table>\n",
       "</div>"
      ],
      "text/plain": [
       "                                          image_name  \\\n",
       "0  4563856cc6d75c670eafd86d5eb7245fbe8f273c28f9e3...   \n",
       "1  a2a15938845d9812de03bd44799c4b1bf856a8ad11752e...   \n",
       "2  401f89a2bb6ab63e3f406bd59b9cadccfe953230feb6cd...   \n",
       "3  0a3937653483c36dfb4d957b6f82ae96dbdc7ba36cc3d8...   \n",
       "4  be1652110a44acd24b42784356e965ce84a04893c3f1bb...   \n",
       "\n",
       "                                         BoxesString     domain source  \n",
       "0  99 692 160 764;641 27 697 115;935 978 1012 102...  Arvalis_1  train  \n",
       "1  230 143 321 222;928 929 1015 1004;485 557 604 ...  Arvalis_1  train  \n",
       "2  440 239 544 288;333 538 429 594;913 171 963 20...  Arvalis_1  train  \n",
       "3  112 274 188 303;892 812 958 847;0 889 67 928;1...  Arvalis_1  train  \n",
       "4  810 204 863 314;360 231 425 408;452 348 510 47...  Arvalis_1  train  "
      ]
     },
     "execution_count": 9,
     "metadata": {},
     "output_type": "execute_result"
    }
   ],
   "source": [
    "# Concat the data\n",
    "\n",
    "df_data = pd.concat([df_train, df_val, df_test], axis=0)\n",
    "\n",
    "print(df_data.shape)\n",
    "\n",
    "df_data.head()"
   ]
  },
  {
   "cell_type": "markdown",
   "id": "87978e04",
   "metadata": {
    "papermill": {
     "duration": 0.010517,
     "end_time": "2023-01-13T03:06:46.367968",
     "exception": false,
     "start_time": "2023-01-13T03:06:46.357451",
     "status": "completed"
    },
    "tags": []
   },
   "source": [
    "## Remove the duplicates\n",
    "\n",
    "EDA shoed that the first duplicate image, for each image_name, had wrong bboxes. Therefore, we will keep the last image and delete the first one."
   ]
  },
  {
   "cell_type": "code",
   "execution_count": 10,
   "id": "eec5039b",
   "metadata": {
    "execution": {
     "iopub.execute_input": "2023-01-13T03:06:46.392206Z",
     "iopub.status.busy": "2023-01-13T03:06:46.391770Z",
     "iopub.status.idle": "2023-01-13T03:06:46.410683Z",
     "shell.execute_reply": "2023-01-13T03:06:46.409556Z"
    },
    "papermill": {
     "duration": 0.03417,
     "end_time": "2023-01-13T03:06:46.413156",
     "exception": false,
     "start_time": "2023-01-13T03:06:46.378986",
     "status": "completed"
    },
    "tags": []
   },
   "outputs": [
    {
     "data": {
      "text/plain": [
       "(6512, 4)"
      ]
     },
     "execution_count": 10,
     "metadata": {},
     "output_type": "execute_result"
    }
   ],
   "source": [
    "# Keep the second of two duplicates for each duplicate image_name\n",
    "df_data = df_data.drop_duplicates(subset='image_name', keep='last')\n",
    "\n",
    "df_data = df_data.reset_index(drop=True)\n",
    "\n",
    "df_data.shape"
   ]
  },
  {
   "cell_type": "markdown",
   "id": "e4b5c291",
   "metadata": {
    "papermill": {
     "duration": 0.011077,
     "end_time": "2023-01-13T03:06:46.434981",
     "exception": false,
     "start_time": "2023-01-13T03:06:46.423904",
     "status": "completed"
    },
    "tags": []
   },
   "source": [
    "## Get the path to each image"
   ]
  },
  {
   "cell_type": "code",
   "execution_count": 11,
   "id": "ddc33ba2",
   "metadata": {
    "execution": {
     "iopub.execute_input": "2023-01-13T03:06:46.459456Z",
     "iopub.status.busy": "2023-01-13T03:06:46.458524Z",
     "iopub.status.idle": "2023-01-13T03:06:46.470720Z",
     "shell.execute_reply": "2023-01-13T03:06:46.469616Z"
    },
    "papermill": {
     "duration": 0.027728,
     "end_time": "2023-01-13T03:06:46.473702",
     "exception": false,
     "start_time": "2023-01-13T03:06:46.445974",
     "status": "completed"
    },
    "tags": []
   },
   "outputs": [],
   "source": [
    "# Get the path to each image\n",
    "\n",
    "def get_path(x):\n",
    "    \n",
    "    image_name = x\n",
    "    path = base_path + 'images/' + image_name\n",
    "    \n",
    "    return path\n",
    "\n",
    "\n",
    "df_data['path'] = df_data['image_name'].apply(get_path)\n",
    "\n",
    "#df_data.head()"
   ]
  },
  {
   "cell_type": "markdown",
   "id": "a96b5a35",
   "metadata": {
    "papermill": {
     "duration": 0.01182,
     "end_time": "2023-01-13T03:06:46.496498",
     "exception": false,
     "start_time": "2023-01-13T03:06:46.484678",
     "status": "completed"
    },
    "tags": []
   },
   "source": [
    "## Create the image height and width column\n",
    "\n",
    "EDA showed that all images are 1024x1024."
   ]
  },
  {
   "cell_type": "code",
   "execution_count": 12,
   "id": "48f67929",
   "metadata": {
    "execution": {
     "iopub.execute_input": "2023-01-13T03:06:46.521785Z",
     "iopub.status.busy": "2023-01-13T03:06:46.520930Z",
     "iopub.status.idle": "2023-01-13T03:06:46.527418Z",
     "shell.execute_reply": "2023-01-13T03:06:46.526522Z"
    },
    "papermill": {
     "duration": 0.021915,
     "end_time": "2023-01-13T03:06:46.529861",
     "exception": false,
     "start_time": "2023-01-13T03:06:46.507946",
     "status": "completed"
    },
    "tags": []
   },
   "outputs": [],
   "source": [
    "df_data['height'] = 1024\n",
    "df_data['width'] = 1024\n",
    "\n",
    "#df_data.head()"
   ]
  },
  {
   "cell_type": "markdown",
   "id": "8bd6a8c1",
   "metadata": {
    "papermill": {
     "duration": 0.011079,
     "end_time": "2023-01-13T03:06:46.551836",
     "exception": false,
     "start_time": "2023-01-13T03:06:46.540757",
     "status": "completed"
    },
    "tags": []
   },
   "source": [
    "## Add a target column"
   ]
  },
  {
   "cell_type": "code",
   "execution_count": 13,
   "id": "9695e9ca",
   "metadata": {
    "execution": {
     "iopub.execute_input": "2023-01-13T03:06:46.578058Z",
     "iopub.status.busy": "2023-01-13T03:06:46.577258Z",
     "iopub.status.idle": "2023-01-13T03:06:46.588432Z",
     "shell.execute_reply": "2023-01-13T03:06:46.586759Z"
    },
    "papermill": {
     "duration": 0.028776,
     "end_time": "2023-01-13T03:06:46.591879",
     "exception": false,
     "start_time": "2023-01-13T03:06:46.563103",
     "status": "completed"
    },
    "tags": []
   },
   "outputs": [],
   "source": [
    "def set_target(x):\n",
    "    \n",
    "    if x == 'no_box':\n",
    "        return 0\n",
    "    else:\n",
    "        return 1\n",
    "    \n",
    "df_data['target'] = df_data['BoxesString'].apply(set_target)\n",
    "\n",
    "#df_data.head()"
   ]
  },
  {
   "cell_type": "code",
   "execution_count": 14,
   "id": "a15f35bb",
   "metadata": {
    "execution": {
     "iopub.execute_input": "2023-01-13T03:06:46.616522Z",
     "iopub.status.busy": "2023-01-13T03:06:46.615384Z",
     "iopub.status.idle": "2023-01-13T03:06:46.625661Z",
     "shell.execute_reply": "2023-01-13T03:06:46.624785Z"
    },
    "papermill": {
     "duration": 0.025093,
     "end_time": "2023-01-13T03:06:46.628155",
     "exception": false,
     "start_time": "2023-01-13T03:06:46.603062",
     "status": "completed"
    },
    "tags": []
   },
   "outputs": [
    {
     "data": {
      "text/plain": [
       "1    6387\n",
       "0     125\n",
       "Name: target, dtype: int64"
      ]
     },
     "execution_count": 14,
     "metadata": {},
     "output_type": "execute_result"
    }
   ],
   "source": [
    "df_data['target'].value_counts()"
   ]
  },
  {
   "cell_type": "markdown",
   "id": "ba1e1bab",
   "metadata": {
    "papermill": {
     "duration": 0.011383,
     "end_time": "2023-01-13T03:06:46.650768",
     "exception": false,
     "start_time": "2023-01-13T03:06:46.639385",
     "status": "completed"
    },
    "tags": []
   },
   "source": [
    "## Add a column called image_id"
   ]
  },
  {
   "cell_type": "code",
   "execution_count": 15,
   "id": "4c2844f3",
   "metadata": {
    "execution": {
     "iopub.execute_input": "2023-01-13T03:06:46.676302Z",
     "iopub.status.busy": "2023-01-13T03:06:46.675020Z",
     "iopub.status.idle": "2023-01-13T03:06:46.685815Z",
     "shell.execute_reply": "2023-01-13T03:06:46.684750Z"
    },
    "papermill": {
     "duration": 0.026677,
     "end_time": "2023-01-13T03:06:46.688448",
     "exception": false,
     "start_time": "2023-01-13T03:06:46.661771",
     "status": "completed"
    },
    "tags": []
   },
   "outputs": [],
   "source": [
    "def get_image_id(x):\n",
    "    \n",
    "    image_id = x.split('.')[0]\n",
    "    \n",
    "    return image_id\n",
    "\n",
    "df_data['image_id'] = df_data['image_name'].apply(get_image_id)\n",
    "    \n",
    "#df_data.head()"
   ]
  },
  {
   "cell_type": "markdown",
   "id": "18bfa232",
   "metadata": {
    "papermill": {
     "duration": 0.010892,
     "end_time": "2023-01-13T03:06:46.711229",
     "exception": false,
     "start_time": "2023-01-13T03:06:46.700337",
     "status": "completed"
    },
    "tags": []
   },
   "source": [
    "## Create the folds"
   ]
  },
  {
   "cell_type": "code",
   "execution_count": 16,
   "id": "58861be5",
   "metadata": {
    "execution": {
     "iopub.execute_input": "2023-01-13T03:06:46.737783Z",
     "iopub.status.busy": "2023-01-13T03:06:46.737052Z",
     "iopub.status.idle": "2023-01-13T03:06:46.749286Z",
     "shell.execute_reply": "2023-01-13T03:06:46.747914Z"
    },
    "papermill": {
     "duration": 0.028572,
     "end_time": "2023-01-13T03:06:46.752396",
     "exception": false,
     "start_time": "2023-01-13T03:06:46.723824",
     "status": "completed"
    },
    "tags": []
   },
   "outputs": [],
   "source": [
    "# Filter out target 0\n",
    "df0 = df_data[df_data['target'] == 0]\n",
    "df0 = df0.reset_index(drop=True)\n",
    "\n",
    "# Filter out target 1\n",
    "df1 = df_data[df_data['target'] == 1]\n",
    "df1 = df1.reset_index(drop=True)"
   ]
  },
  {
   "cell_type": "code",
   "execution_count": 17,
   "id": "ee558ff3",
   "metadata": {
    "execution": {
     "iopub.execute_input": "2023-01-13T03:06:46.780198Z",
     "iopub.status.busy": "2023-01-13T03:06:46.779319Z",
     "iopub.status.idle": "2023-01-13T03:06:48.029936Z",
     "shell.execute_reply": "2023-01-13T03:06:48.028607Z"
    },
    "papermill": {
     "duration": 1.26724,
     "end_time": "2023-01-13T03:06:48.032685",
     "exception": false,
     "start_time": "2023-01-13T03:06:46.765445",
     "status": "completed"
    },
    "tags": []
   },
   "outputs": [
    {
     "data": {
      "text/plain": [
       "5.0    18\n",
       "0.0    18\n",
       "2.0    18\n",
       "1.0    18\n",
       "4.0    18\n",
       "3.0    18\n",
       "6.0    17\n",
       "Name: fold, dtype: int64"
      ]
     },
     "execution_count": 17,
     "metadata": {},
     "output_type": "execute_result"
    }
   ],
   "source": [
    "from sklearn.model_selection import KFold, StratifiedKFold, StratifiedGroupKFold\n",
    "\n",
    "skf = KFold(n_splits=NUM_FOLDS, shuffle=True, random_state=101)\n",
    "\n",
    "for fold, ( _, val_) in enumerate(skf.split(X=df0)):\n",
    "      df0.loc[val_ , \"fold\"] = fold\n",
    "        \n",
    "df0['fold'].value_counts()"
   ]
  },
  {
   "cell_type": "code",
   "execution_count": 18,
   "id": "b1b2e2d1",
   "metadata": {
    "execution": {
     "iopub.execute_input": "2023-01-13T03:06:48.057463Z",
     "iopub.status.busy": "2023-01-13T03:06:48.057021Z",
     "iopub.status.idle": "2023-01-13T03:06:48.093114Z",
     "shell.execute_reply": "2023-01-13T03:06:48.091148Z"
    },
    "papermill": {
     "duration": 0.051616,
     "end_time": "2023-01-13T03:06:48.095978",
     "exception": false,
     "start_time": "2023-01-13T03:06:48.044362",
     "status": "completed"
    },
    "tags": []
   },
   "outputs": [
    {
     "name": "stderr",
     "output_type": "stream",
     "text": [
      "/opt/conda/lib/python3.7/site-packages/sklearn/model_selection/_split.py:680: UserWarning: The least populated class in y has only 3 members, which is less than n_splits=7.\n",
      "  UserWarning,\n"
     ]
    },
    {
     "data": {
      "text/plain": [
       "1.0    913\n",
       "2.0    913\n",
       "0.0    913\n",
       "3.0    912\n",
       "5.0    912\n",
       "6.0    912\n",
       "4.0    912\n",
       "Name: fold, dtype: int64"
      ]
     },
     "execution_count": 18,
     "metadata": {},
     "output_type": "execute_result"
    }
   ],
   "source": [
    "from sklearn.model_selection import KFold, StratifiedKFold, StratifiedGroupKFold\n",
    "\n",
    "skf = StratifiedKFold(n_splits=NUM_FOLDS, shuffle=True, random_state=101)\n",
    "\n",
    "for fold, ( _, val_) in enumerate(skf.split(X=df1, y=df1.domain)):\n",
    "      df1.loc[val_ , \"fold\"] = fold\n",
    "        \n",
    "df1['fold'].value_counts()"
   ]
  },
  {
   "cell_type": "code",
   "execution_count": 19,
   "id": "abade6fa",
   "metadata": {
    "execution": {
     "iopub.execute_input": "2023-01-13T03:06:48.120659Z",
     "iopub.status.busy": "2023-01-13T03:06:48.119943Z",
     "iopub.status.idle": "2023-01-13T03:06:48.135405Z",
     "shell.execute_reply": "2023-01-13T03:06:48.134118Z"
    },
    "papermill": {
     "duration": 0.030726,
     "end_time": "2023-01-13T03:06:48.137975",
     "exception": false,
     "start_time": "2023-01-13T03:06:48.107249",
     "status": "completed"
    },
    "tags": []
   },
   "outputs": [
    {
     "data": {
      "text/plain": [
       "(6512, 10)"
      ]
     },
     "execution_count": 19,
     "metadata": {},
     "output_type": "execute_result"
    }
   ],
   "source": [
    "# Concat df0 and df1\n",
    "\n",
    "df_data = pd.concat([df0, df1], axis=0)\n",
    "df_data = df_data.reset_index(drop=True)\n",
    "\n",
    "df_data.shape"
   ]
  },
  {
   "cell_type": "code",
   "execution_count": 20,
   "id": "02e0a9c9",
   "metadata": {
    "execution": {
     "iopub.execute_input": "2023-01-13T03:06:48.162559Z",
     "iopub.status.busy": "2023-01-13T03:06:48.162122Z",
     "iopub.status.idle": "2023-01-13T03:06:48.177919Z",
     "shell.execute_reply": "2023-01-13T03:06:48.176078Z"
    },
    "papermill": {
     "duration": 0.031219,
     "end_time": "2023-01-13T03:06:48.180685",
     "exception": false,
     "start_time": "2023-01-13T03:06:48.149466",
     "status": "completed"
    },
    "tags": []
   },
   "outputs": [
    {
     "name": "stdout",
     "output_type": "stream",
     "text": [
      "Train\n",
      "5581\n",
      "1    5474\n",
      "0     107\n",
      "Name: target, dtype: int64\n",
      "\n",
      "Val\n",
      "931\n",
      "1    913\n",
      "0     18\n",
      "Name: target, dtype: int64\n"
     ]
    }
   ],
   "source": [
    "# How to choose the fold to train on.\n",
    "\n",
    "fold_index = CHOSEN_FOLD\n",
    "\n",
    "df_train = df_data[df_data['fold'] != fold_index]\n",
    "df_val = df_data[df_data['fold'] == fold_index]\n",
    "\n",
    "print('Train')\n",
    "print(len(df_train))\n",
    "print(df_train['target'].value_counts())\n",
    "print('')\n",
    "print('Val')\n",
    "print(len(df_val))\n",
    "print(df_val['target'].value_counts())"
   ]
  },
  {
   "cell_type": "markdown",
   "id": "06eb5b45",
   "metadata": {
    "papermill": {
     "duration": 0.011061,
     "end_time": "2023-01-13T03:06:48.203337",
     "exception": false,
     "start_time": "2023-01-13T03:06:48.192276",
     "status": "completed"
    },
    "tags": []
   },
   "source": [
    "## Review df_train and df_val"
   ]
  },
  {
   "cell_type": "code",
   "execution_count": 21,
   "id": "432f615b",
   "metadata": {
    "execution": {
     "iopub.execute_input": "2023-01-13T03:06:48.228578Z",
     "iopub.status.busy": "2023-01-13T03:06:48.228171Z",
     "iopub.status.idle": "2023-01-13T03:06:48.244735Z",
     "shell.execute_reply": "2023-01-13T03:06:48.243353Z"
    },
    "papermill": {
     "duration": 0.032302,
     "end_time": "2023-01-13T03:06:48.247254",
     "exception": false,
     "start_time": "2023-01-13T03:06:48.214952",
     "status": "completed"
    },
    "tags": []
   },
   "outputs": [
    {
     "data": {
      "text/html": [
       "<div>\n",
       "<style scoped>\n",
       "    .dataframe tbody tr th:only-of-type {\n",
       "        vertical-align: middle;\n",
       "    }\n",
       "\n",
       "    .dataframe tbody tr th {\n",
       "        vertical-align: top;\n",
       "    }\n",
       "\n",
       "    .dataframe thead th {\n",
       "        text-align: right;\n",
       "    }\n",
       "</style>\n",
       "<table border=\"1\" class=\"dataframe\">\n",
       "  <thead>\n",
       "    <tr style=\"text-align: right;\">\n",
       "      <th></th>\n",
       "      <th>image_name</th>\n",
       "      <th>BoxesString</th>\n",
       "      <th>domain</th>\n",
       "      <th>source</th>\n",
       "      <th>path</th>\n",
       "      <th>height</th>\n",
       "      <th>width</th>\n",
       "      <th>target</th>\n",
       "      <th>image_id</th>\n",
       "      <th>fold</th>\n",
       "    </tr>\n",
       "  </thead>\n",
       "  <tbody>\n",
       "    <tr>\n",
       "      <th>0</th>\n",
       "      <td>6b06b7b2a64a2bf87daa760f754b44efaaeb69da6454d6...</td>\n",
       "      <td>no_box</td>\n",
       "      <td>Arvalis_5</td>\n",
       "      <td>train</td>\n",
       "      <td>../input/global-wheat-head-dataset-2021/gwhd_2...</td>\n",
       "      <td>1024</td>\n",
       "      <td>1024</td>\n",
       "      <td>0</td>\n",
       "      <td>6b06b7b2a64a2bf87daa760f754b44efaaeb69da6454d6...</td>\n",
       "      <td>5.0</td>\n",
       "    </tr>\n",
       "    <tr>\n",
       "      <th>2</th>\n",
       "      <td>e966dfbaa9bec815940faae79159e88be160cc5985e54d...</td>\n",
       "      <td>no_box</td>\n",
       "      <td>Arvalis_5</td>\n",
       "      <td>train</td>\n",
       "      <td>../input/global-wheat-head-dataset-2021/gwhd_2...</td>\n",
       "      <td>1024</td>\n",
       "      <td>1024</td>\n",
       "      <td>0</td>\n",
       "      <td>e966dfbaa9bec815940faae79159e88be160cc5985e54d...</td>\n",
       "      <td>2.0</td>\n",
       "    </tr>\n",
       "    <tr>\n",
       "      <th>3</th>\n",
       "      <td>032d6a431f3609706829fcaa4e98d4e5b0430d182e9cf1...</td>\n",
       "      <td>no_box</td>\n",
       "      <td>Arvalis_5</td>\n",
       "      <td>train</td>\n",
       "      <td>../input/global-wheat-head-dataset-2021/gwhd_2...</td>\n",
       "      <td>1024</td>\n",
       "      <td>1024</td>\n",
       "      <td>0</td>\n",
       "      <td>032d6a431f3609706829fcaa4e98d4e5b0430d182e9cf1...</td>\n",
       "      <td>2.0</td>\n",
       "    </tr>\n",
       "    <tr>\n",
       "      <th>4</th>\n",
       "      <td>041e2003e4f0afef241d3e29c73ad00daed660cf167646...</td>\n",
       "      <td>no_box</td>\n",
       "      <td>Arvalis_5</td>\n",
       "      <td>train</td>\n",
       "      <td>../input/global-wheat-head-dataset-2021/gwhd_2...</td>\n",
       "      <td>1024</td>\n",
       "      <td>1024</td>\n",
       "      <td>0</td>\n",
       "      <td>041e2003e4f0afef241d3e29c73ad00daed660cf167646...</td>\n",
       "      <td>6.0</td>\n",
       "    </tr>\n",
       "    <tr>\n",
       "      <th>5</th>\n",
       "      <td>6513f833f9aecc3d3bc4d79aa679ce6feb186abee40847...</td>\n",
       "      <td>no_box</td>\n",
       "      <td>Arvalis_5</td>\n",
       "      <td>train</td>\n",
       "      <td>../input/global-wheat-head-dataset-2021/gwhd_2...</td>\n",
       "      <td>1024</td>\n",
       "      <td>1024</td>\n",
       "      <td>0</td>\n",
       "      <td>6513f833f9aecc3d3bc4d79aa679ce6feb186abee40847...</td>\n",
       "      <td>5.0</td>\n",
       "    </tr>\n",
       "  </tbody>\n",
       "</table>\n",
       "</div>"
      ],
      "text/plain": [
       "                                          image_name BoxesString     domain  \\\n",
       "0  6b06b7b2a64a2bf87daa760f754b44efaaeb69da6454d6...      no_box  Arvalis_5   \n",
       "2  e966dfbaa9bec815940faae79159e88be160cc5985e54d...      no_box  Arvalis_5   \n",
       "3  032d6a431f3609706829fcaa4e98d4e5b0430d182e9cf1...      no_box  Arvalis_5   \n",
       "4  041e2003e4f0afef241d3e29c73ad00daed660cf167646...      no_box  Arvalis_5   \n",
       "5  6513f833f9aecc3d3bc4d79aa679ce6feb186abee40847...      no_box  Arvalis_5   \n",
       "\n",
       "  source                                               path  height  width  \\\n",
       "0  train  ../input/global-wheat-head-dataset-2021/gwhd_2...    1024   1024   \n",
       "2  train  ../input/global-wheat-head-dataset-2021/gwhd_2...    1024   1024   \n",
       "3  train  ../input/global-wheat-head-dataset-2021/gwhd_2...    1024   1024   \n",
       "4  train  ../input/global-wheat-head-dataset-2021/gwhd_2...    1024   1024   \n",
       "5  train  ../input/global-wheat-head-dataset-2021/gwhd_2...    1024   1024   \n",
       "\n",
       "   target                                           image_id  fold  \n",
       "0       0  6b06b7b2a64a2bf87daa760f754b44efaaeb69da6454d6...   5.0  \n",
       "2       0  e966dfbaa9bec815940faae79159e88be160cc5985e54d...   2.0  \n",
       "3       0  032d6a431f3609706829fcaa4e98d4e5b0430d182e9cf1...   2.0  \n",
       "4       0  041e2003e4f0afef241d3e29c73ad00daed660cf167646...   6.0  \n",
       "5       0  6513f833f9aecc3d3bc4d79aa679ce6feb186abee40847...   5.0  "
      ]
     },
     "execution_count": 21,
     "metadata": {},
     "output_type": "execute_result"
    }
   ],
   "source": [
    "df_train.head()"
   ]
  },
  {
   "cell_type": "code",
   "execution_count": 22,
   "id": "7da6dabe",
   "metadata": {
    "execution": {
     "iopub.execute_input": "2023-01-13T03:06:48.273339Z",
     "iopub.status.busy": "2023-01-13T03:06:48.272928Z",
     "iopub.status.idle": "2023-01-13T03:06:48.288972Z",
     "shell.execute_reply": "2023-01-13T03:06:48.287713Z"
    },
    "papermill": {
     "duration": 0.03235,
     "end_time": "2023-01-13T03:06:48.291483",
     "exception": false,
     "start_time": "2023-01-13T03:06:48.259133",
     "status": "completed"
    },
    "tags": []
   },
   "outputs": [
    {
     "data": {
      "text/html": [
       "<div>\n",
       "<style scoped>\n",
       "    .dataframe tbody tr th:only-of-type {\n",
       "        vertical-align: middle;\n",
       "    }\n",
       "\n",
       "    .dataframe tbody tr th {\n",
       "        vertical-align: top;\n",
       "    }\n",
       "\n",
       "    .dataframe thead th {\n",
       "        text-align: right;\n",
       "    }\n",
       "</style>\n",
       "<table border=\"1\" class=\"dataframe\">\n",
       "  <thead>\n",
       "    <tr style=\"text-align: right;\">\n",
       "      <th></th>\n",
       "      <th>image_name</th>\n",
       "      <th>BoxesString</th>\n",
       "      <th>domain</th>\n",
       "      <th>source</th>\n",
       "      <th>path</th>\n",
       "      <th>height</th>\n",
       "      <th>width</th>\n",
       "      <th>target</th>\n",
       "      <th>image_id</th>\n",
       "      <th>fold</th>\n",
       "    </tr>\n",
       "  </thead>\n",
       "  <tbody>\n",
       "    <tr>\n",
       "      <th>1</th>\n",
       "      <td>899d237a8b101212498178338d81eb53b3e612fd940b40...</td>\n",
       "      <td>no_box</td>\n",
       "      <td>Arvalis_5</td>\n",
       "      <td>train</td>\n",
       "      <td>../input/global-wheat-head-dataset-2021/gwhd_2...</td>\n",
       "      <td>1024</td>\n",
       "      <td>1024</td>\n",
       "      <td>0</td>\n",
       "      <td>899d237a8b101212498178338d81eb53b3e612fd940b40...</td>\n",
       "      <td>0.0</td>\n",
       "    </tr>\n",
       "    <tr>\n",
       "      <th>13</th>\n",
       "      <td>17528cba85011bb2c82d5e223407c0a2c599bc18f35b6d...</td>\n",
       "      <td>no_box</td>\n",
       "      <td>Arvalis_5</td>\n",
       "      <td>train</td>\n",
       "      <td>../input/global-wheat-head-dataset-2021/gwhd_2...</td>\n",
       "      <td>1024</td>\n",
       "      <td>1024</td>\n",
       "      <td>0</td>\n",
       "      <td>17528cba85011bb2c82d5e223407c0a2c599bc18f35b6d...</td>\n",
       "      <td>0.0</td>\n",
       "    </tr>\n",
       "    <tr>\n",
       "      <th>16</th>\n",
       "      <td>43338b7802c69c618c4a80089a23f339314da3e0d5b88b...</td>\n",
       "      <td>no_box</td>\n",
       "      <td>Arvalis_5</td>\n",
       "      <td>train</td>\n",
       "      <td>../input/global-wheat-head-dataset-2021/gwhd_2...</td>\n",
       "      <td>1024</td>\n",
       "      <td>1024</td>\n",
       "      <td>0</td>\n",
       "      <td>43338b7802c69c618c4a80089a23f339314da3e0d5b88b...</td>\n",
       "      <td>0.0</td>\n",
       "    </tr>\n",
       "    <tr>\n",
       "      <th>21</th>\n",
       "      <td>5aba771ffdafdc2460ecb00524239776068b77318e5704...</td>\n",
       "      <td>no_box</td>\n",
       "      <td>Arvalis_5</td>\n",
       "      <td>train</td>\n",
       "      <td>../input/global-wheat-head-dataset-2021/gwhd_2...</td>\n",
       "      <td>1024</td>\n",
       "      <td>1024</td>\n",
       "      <td>0</td>\n",
       "      <td>5aba771ffdafdc2460ecb00524239776068b77318e5704...</td>\n",
       "      <td>0.0</td>\n",
       "    </tr>\n",
       "    <tr>\n",
       "      <th>25</th>\n",
       "      <td>059a41e6b8db4d29360d9dd224690f788712bb3a979b5c...</td>\n",
       "      <td>no_box</td>\n",
       "      <td>Arvalis_5</td>\n",
       "      <td>train</td>\n",
       "      <td>../input/global-wheat-head-dataset-2021/gwhd_2...</td>\n",
       "      <td>1024</td>\n",
       "      <td>1024</td>\n",
       "      <td>0</td>\n",
       "      <td>059a41e6b8db4d29360d9dd224690f788712bb3a979b5c...</td>\n",
       "      <td>0.0</td>\n",
       "    </tr>\n",
       "  </tbody>\n",
       "</table>\n",
       "</div>"
      ],
      "text/plain": [
       "                                           image_name BoxesString     domain  \\\n",
       "1   899d237a8b101212498178338d81eb53b3e612fd940b40...      no_box  Arvalis_5   \n",
       "13  17528cba85011bb2c82d5e223407c0a2c599bc18f35b6d...      no_box  Arvalis_5   \n",
       "16  43338b7802c69c618c4a80089a23f339314da3e0d5b88b...      no_box  Arvalis_5   \n",
       "21  5aba771ffdafdc2460ecb00524239776068b77318e5704...      no_box  Arvalis_5   \n",
       "25  059a41e6b8db4d29360d9dd224690f788712bb3a979b5c...      no_box  Arvalis_5   \n",
       "\n",
       "   source                                               path  height  width  \\\n",
       "1   train  ../input/global-wheat-head-dataset-2021/gwhd_2...    1024   1024   \n",
       "13  train  ../input/global-wheat-head-dataset-2021/gwhd_2...    1024   1024   \n",
       "16  train  ../input/global-wheat-head-dataset-2021/gwhd_2...    1024   1024   \n",
       "21  train  ../input/global-wheat-head-dataset-2021/gwhd_2...    1024   1024   \n",
       "25  train  ../input/global-wheat-head-dataset-2021/gwhd_2...    1024   1024   \n",
       "\n",
       "    target                                           image_id  fold  \n",
       "1        0  899d237a8b101212498178338d81eb53b3e612fd940b40...   0.0  \n",
       "13       0  17528cba85011bb2c82d5e223407c0a2c599bc18f35b6d...   0.0  \n",
       "16       0  43338b7802c69c618c4a80089a23f339314da3e0d5b88b...   0.0  \n",
       "21       0  5aba771ffdafdc2460ecb00524239776068b77318e5704...   0.0  \n",
       "25       0  059a41e6b8db4d29360d9dd224690f788712bb3a979b5c...   0.0  "
      ]
     },
     "execution_count": 22,
     "metadata": {},
     "output_type": "execute_result"
    }
   ],
   "source": [
    "df_val.head()"
   ]
  },
  {
   "cell_type": "code",
   "execution_count": 23,
   "id": "cebc319d",
   "metadata": {
    "execution": {
     "iopub.execute_input": "2023-01-13T03:06:48.317550Z",
     "iopub.status.busy": "2023-01-13T03:06:48.317152Z",
     "iopub.status.idle": "2023-01-13T03:06:48.326596Z",
     "shell.execute_reply": "2023-01-13T03:06:48.325450Z"
    },
    "papermill": {
     "duration": 0.02553,
     "end_time": "2023-01-13T03:06:48.329234",
     "exception": false,
     "start_time": "2023-01-13T03:06:48.303704",
     "status": "completed"
    },
    "tags": []
   },
   "outputs": [
    {
     "data": {
      "text/plain": [
       "ETHZ_1            640\n",
       "Arvalis_3         504\n",
       "Utokyo_1          461\n",
       "Utokyo_2          391\n",
       "Arvalis_5         381\n",
       "Rres_1            370\n",
       "Arvalis_2         344\n",
       "Arvalis_4         175\n",
       "Usask_1           171\n",
       "Inrae_1           151\n",
       "Arvalis_6         137\n",
       "Terraref_1        125\n",
       "Utokyo_3          101\n",
       "Terraref_2         91\n",
       "UQ_10              91\n",
       "NAU_2              86\n",
       "KSU_2              86\n",
       "KSU_1              86\n",
       "NAU_3              85\n",
       "NMBU_2             84\n",
       "KSU_3              81\n",
       "UQ_11              72\n",
       "NMBU_1             70\n",
       "CIMMYT_2           67\n",
       "CIMMYT_1           58\n",
       "Arvalis_1          56\n",
       "Ukyoto_1           52\n",
       "KSU_4              52\n",
       "Arvalis_11         51\n",
       "Arvalis_10         50\n",
       "CIMMYT_3           50\n",
       "UQ_8               35\n",
       "UQ_9               29\n",
       "Arvalis_9          28\n",
       "ULiège-GxABT_1     26\n",
       "UQ_6               26\n",
       "UQ_5               26\n",
       "UQ_4               26\n",
       "ARC_1              26\n",
       "Arvalis_12         25\n",
       "Arvalis_7          21\n",
       "UQ_1               19\n",
       "NAU_1              17\n",
       "Arvalis_8          17\n",
       "UQ_7               14\n",
       "UQ_2               14\n",
       "UQ_3               13\n",
       "Name: domain, dtype: int64"
      ]
     },
     "execution_count": 23,
     "metadata": {},
     "output_type": "execute_result"
    }
   ],
   "source": [
    "df_train['domain'].value_counts()"
   ]
  },
  {
   "cell_type": "code",
   "execution_count": 24,
   "id": "0aaed6f4",
   "metadata": {
    "execution": {
     "iopub.execute_input": "2023-01-13T03:06:48.355669Z",
     "iopub.status.busy": "2023-01-13T03:06:48.354983Z",
     "iopub.status.idle": "2023-01-13T03:06:48.364240Z",
     "shell.execute_reply": "2023-01-13T03:06:48.363116Z"
    },
    "papermill": {
     "duration": 0.025083,
     "end_time": "2023-01-13T03:06:48.366446",
     "exception": false,
     "start_time": "2023-01-13T03:06:48.341363",
     "status": "completed"
    },
    "tags": []
   },
   "outputs": [
    {
     "data": {
      "text/plain": [
       "ETHZ_1            107\n",
       "Arvalis_3          84\n",
       "Utokyo_1           77\n",
       "Arvalis_5          67\n",
       "Utokyo_2           65\n",
       "Rres_1             62\n",
       "Arvalis_2          57\n",
       "Arvalis_4          29\n",
       "Usask_1            29\n",
       "Inrae_1            25\n",
       "Arvalis_6          23\n",
       "Utokyo_3           19\n",
       "Terraref_1         19\n",
       "UQ_10              15\n",
       "Terraref_2         15\n",
       "NAU_3              15\n",
       "NAU_2              14\n",
       "KSU_2              14\n",
       "KSU_1              14\n",
       "NMBU_2             14\n",
       "KSU_3              14\n",
       "UQ_11              12\n",
       "NMBU_1             12\n",
       "Arvalis_1          10\n",
       "CIMMYT_2           10\n",
       "CIMMYT_1           10\n",
       "CIMMYT_3           10\n",
       "Arvalis_11          9\n",
       "Ukyoto_1            8\n",
       "KSU_4               8\n",
       "Arvalis_10          8\n",
       "UQ_8                6\n",
       "UQ_9                4\n",
       "ARC_1               4\n",
       "UQ_6                4\n",
       "UQ_5                4\n",
       "UQ_4                4\n",
       "ULiège-GxABT_1      4\n",
       "Arvalis_12          4\n",
       "Arvalis_9           4\n",
       "UQ_7                3\n",
       "UQ_1                3\n",
       "Arvalis_8           3\n",
       "Arvalis_7           3\n",
       "NAU_1               3\n",
       "UQ_2                2\n",
       "UQ_3                1\n",
       "Name: domain, dtype: int64"
      ]
     },
     "execution_count": 24,
     "metadata": {},
     "output_type": "execute_result"
    }
   ],
   "source": [
    "df_val['domain'].value_counts()"
   ]
  },
  {
   "cell_type": "markdown",
   "id": "65faa340",
   "metadata": {
    "papermill": {
     "duration": 0.011986,
     "end_time": "2023-01-13T03:06:48.390666",
     "exception": false,
     "start_time": "2023-01-13T03:06:48.378680",
     "status": "completed"
    },
    "tags": []
   },
   "source": [
    "## Put each bbox on a seperate row"
   ]
  },
  {
   "cell_type": "code",
   "execution_count": 25,
   "id": "1a1c274a",
   "metadata": {
    "execution": {
     "iopub.execute_input": "2023-01-13T03:06:48.417190Z",
     "iopub.status.busy": "2023-01-13T03:06:48.416759Z",
     "iopub.status.idle": "2023-01-13T03:06:48.428653Z",
     "shell.execute_reply": "2023-01-13T03:06:48.427103Z"
    },
    "papermill": {
     "duration": 0.028669,
     "end_time": "2023-01-13T03:06:48.431673",
     "exception": false,
     "start_time": "2023-01-13T03:06:48.403004",
     "status": "completed"
    },
    "tags": []
   },
   "outputs": [
    {
     "name": "stdout",
     "output_type": "stream",
     "text": [
      "(125, 10)\n",
      "(6387, 10)\n"
     ]
    }
   ],
   "source": [
    "# Filter out the rows that don't have bboxes\n",
    "\n",
    "df_none = df_data[df_data['BoxesString'] == 'no_box']\n",
    "df_box = df_data[df_data['BoxesString'] != 'no_box']\n",
    "\n",
    "print(df_none.shape)\n",
    "print(df_box.shape)"
   ]
  },
  {
   "cell_type": "code",
   "execution_count": 26,
   "id": "6427a12c",
   "metadata": {
    "execution": {
     "iopub.execute_input": "2023-01-13T03:06:48.459141Z",
     "iopub.status.busy": "2023-01-13T03:06:48.458311Z",
     "iopub.status.idle": "2023-01-13T03:08:04.147378Z",
     "shell.execute_reply": "2023-01-13T03:08:04.145781Z"
    },
    "papermill": {
     "duration": 75.70613,
     "end_time": "2023-01-13T03:08:04.150794",
     "exception": false,
     "start_time": "2023-01-13T03:06:48.444664",
     "status": "completed"
    },
    "tags": []
   },
   "outputs": [
    {
     "name": "stderr",
     "output_type": "stream",
     "text": [
      "100%|██████████| 6387/6387 [01:15<00:00, 84.41it/s]\n"
     ]
    },
    {
     "data": {
      "text/plain": [
       "(275371, 9)"
      ]
     },
     "execution_count": 26,
     "metadata": {},
     "output_type": "execute_result"
    }
   ],
   "source": [
    "df_box = df_box.reset_index(drop=True)\n",
    "\n",
    "for i in tqdm(range(0, len(df_box)), total=len(df_box)):\n",
    "\n",
    "    # Get the bbox string\n",
    "    image_id = df_box.loc[i, 'image_id']\n",
    "    box_str = df_box.loc[i, 'BoxesString']\n",
    "    \n",
    "    domain = df_box.loc[i, 'domain']\n",
    "    target = df_box.loc[i, 'target']\n",
    "    height = df_box.loc[i, 'height']\n",
    "    width = df_box.loc[i, 'width']\n",
    "    \n",
    "    source = df_box.loc[i, 'source']\n",
    "    path = df_box.loc[i, 'path']\n",
    "    \n",
    "    fold = df_box.loc[i, 'fold']\n",
    "\n",
    "\n",
    "    # Create a list of bbox coords.\n",
    "    # Each list item is a string\n",
    "    box_list = box_str.split(';')\n",
    "\n",
    "    num_rows = len(box_list)\n",
    "\n",
    "    # Create lists that are the same length as num_rows.\n",
    "    # All items in the list are the same.\n",
    "    image_id_list = [image_id] * num_rows\n",
    "    domain_list = [domain] * num_rows\n",
    "    target_list = [target] * num_rows\n",
    "    \n",
    "    height_list = [height] * num_rows\n",
    "    width_list = [width] * num_rows\n",
    "    \n",
    "    source_list = [source] * num_rows\n",
    "    path_list = [path] * num_rows\n",
    "    \n",
    "    fold_list = [fold] * num_rows\n",
    "\n",
    "    # Create a dict that we will later use to create a dataframe\n",
    "    info_dict = {\n",
    "        'image_id': image_id_list,\n",
    "        'BoxesString': box_list,\n",
    "        'domain': domain_list,\n",
    "        'target': target_list,\n",
    "        'height': height_list,\n",
    "        'width': width_list,\n",
    "        'source': source_list,\n",
    "        'path': path_list,\n",
    "        'fold': fold_list\n",
    "    }\n",
    "\n",
    "    df = pd.DataFrame(info_dict)\n",
    "\n",
    "    if i == 0:\n",
    "        df_fin = df\n",
    "    else:\n",
    "        df_fin = pd.concat([df_fin, df], axis=0)\n",
    "        \n",
    "df_fin.shape"
   ]
  },
  {
   "cell_type": "code",
   "execution_count": 27,
   "id": "14648b26",
   "metadata": {
    "execution": {
     "iopub.execute_input": "2023-01-13T03:08:04.259152Z",
     "iopub.status.busy": "2023-01-13T03:08:04.258500Z",
     "iopub.status.idle": "2023-01-13T03:08:04.305845Z",
     "shell.execute_reply": "2023-01-13T03:08:04.304624Z"
    },
    "papermill": {
     "duration": 0.105099,
     "end_time": "2023-01-13T03:08:04.308956",
     "exception": false,
     "start_time": "2023-01-13T03:08:04.203857",
     "status": "completed"
    },
    "tags": []
   },
   "outputs": [
    {
     "name": "stdout",
     "output_type": "stream",
     "text": [
      "(275496, 9)\n"
     ]
    },
    {
     "data": {
      "text/html": [
       "<div>\n",
       "<style scoped>\n",
       "    .dataframe tbody tr th:only-of-type {\n",
       "        vertical-align: middle;\n",
       "    }\n",
       "\n",
       "    .dataframe tbody tr th {\n",
       "        vertical-align: top;\n",
       "    }\n",
       "\n",
       "    .dataframe thead th {\n",
       "        text-align: right;\n",
       "    }\n",
       "</style>\n",
       "<table border=\"1\" class=\"dataframe\">\n",
       "  <thead>\n",
       "    <tr style=\"text-align: right;\">\n",
       "      <th></th>\n",
       "      <th>image_id</th>\n",
       "      <th>BoxesString</th>\n",
       "      <th>domain</th>\n",
       "      <th>target</th>\n",
       "      <th>height</th>\n",
       "      <th>width</th>\n",
       "      <th>source</th>\n",
       "      <th>path</th>\n",
       "      <th>fold</th>\n",
       "    </tr>\n",
       "  </thead>\n",
       "  <tbody>\n",
       "    <tr>\n",
       "      <th>0</th>\n",
       "      <td>4563856cc6d75c670eafd86d5eb7245fbe8f273c28f9e3...</td>\n",
       "      <td>99 692 160 764</td>\n",
       "      <td>Arvalis_1</td>\n",
       "      <td>1</td>\n",
       "      <td>1024</td>\n",
       "      <td>1024</td>\n",
       "      <td>train</td>\n",
       "      <td>../input/global-wheat-head-dataset-2021/gwhd_2...</td>\n",
       "      <td>3.0</td>\n",
       "    </tr>\n",
       "    <tr>\n",
       "      <th>1</th>\n",
       "      <td>4563856cc6d75c670eafd86d5eb7245fbe8f273c28f9e3...</td>\n",
       "      <td>641 27 697 115</td>\n",
       "      <td>Arvalis_1</td>\n",
       "      <td>1</td>\n",
       "      <td>1024</td>\n",
       "      <td>1024</td>\n",
       "      <td>train</td>\n",
       "      <td>../input/global-wheat-head-dataset-2021/gwhd_2...</td>\n",
       "      <td>3.0</td>\n",
       "    </tr>\n",
       "    <tr>\n",
       "      <th>2</th>\n",
       "      <td>4563856cc6d75c670eafd86d5eb7245fbe8f273c28f9e3...</td>\n",
       "      <td>935 978 1012 1020</td>\n",
       "      <td>Arvalis_1</td>\n",
       "      <td>1</td>\n",
       "      <td>1024</td>\n",
       "      <td>1024</td>\n",
       "      <td>train</td>\n",
       "      <td>../input/global-wheat-head-dataset-2021/gwhd_2...</td>\n",
       "      <td>3.0</td>\n",
       "    </tr>\n",
       "    <tr>\n",
       "      <th>3</th>\n",
       "      <td>4563856cc6d75c670eafd86d5eb7245fbe8f273c28f9e3...</td>\n",
       "      <td>377 834 463 890</td>\n",
       "      <td>Arvalis_1</td>\n",
       "      <td>1</td>\n",
       "      <td>1024</td>\n",
       "      <td>1024</td>\n",
       "      <td>train</td>\n",
       "      <td>../input/global-wheat-head-dataset-2021/gwhd_2...</td>\n",
       "      <td>3.0</td>\n",
       "    </tr>\n",
       "    <tr>\n",
       "      <th>4</th>\n",
       "      <td>4563856cc6d75c670eafd86d5eb7245fbe8f273c28f9e3...</td>\n",
       "      <td>654 797 696 837</td>\n",
       "      <td>Arvalis_1</td>\n",
       "      <td>1</td>\n",
       "      <td>1024</td>\n",
       "      <td>1024</td>\n",
       "      <td>train</td>\n",
       "      <td>../input/global-wheat-head-dataset-2021/gwhd_2...</td>\n",
       "      <td>3.0</td>\n",
       "    </tr>\n",
       "  </tbody>\n",
       "</table>\n",
       "</div>"
      ],
      "text/plain": [
       "                                            image_id        BoxesString  \\\n",
       "0  4563856cc6d75c670eafd86d5eb7245fbe8f273c28f9e3...     99 692 160 764   \n",
       "1  4563856cc6d75c670eafd86d5eb7245fbe8f273c28f9e3...     641 27 697 115   \n",
       "2  4563856cc6d75c670eafd86d5eb7245fbe8f273c28f9e3...  935 978 1012 1020   \n",
       "3  4563856cc6d75c670eafd86d5eb7245fbe8f273c28f9e3...    377 834 463 890   \n",
       "4  4563856cc6d75c670eafd86d5eb7245fbe8f273c28f9e3...    654 797 696 837   \n",
       "\n",
       "      domain  target  height  width source  \\\n",
       "0  Arvalis_1       1    1024   1024  train   \n",
       "1  Arvalis_1       1    1024   1024  train   \n",
       "2  Arvalis_1       1    1024   1024  train   \n",
       "3  Arvalis_1       1    1024   1024  train   \n",
       "4  Arvalis_1       1    1024   1024  train   \n",
       "\n",
       "                                                path  fold  \n",
       "0  ../input/global-wheat-head-dataset-2021/gwhd_2...   3.0  \n",
       "1  ../input/global-wheat-head-dataset-2021/gwhd_2...   3.0  \n",
       "2  ../input/global-wheat-head-dataset-2021/gwhd_2...   3.0  \n",
       "3  ../input/global-wheat-head-dataset-2021/gwhd_2...   3.0  \n",
       "4  ../input/global-wheat-head-dataset-2021/gwhd_2...   3.0  "
      ]
     },
     "execution_count": 27,
     "metadata": {},
     "output_type": "execute_result"
    }
   ],
   "source": [
    "# Concat df_none to df_fin\n",
    "\n",
    "# Choose only the columns we want\n",
    "df_none1 = df_none[df_fin.columns]\n",
    "\n",
    "df_rows = pd.concat([df_fin, df_none1], axis=0)\n",
    "\n",
    "print(df_rows.shape)\n",
    "\n",
    "df_rows.head()"
   ]
  },
  {
   "cell_type": "code",
   "execution_count": 28,
   "id": "46975d8f",
   "metadata": {
    "execution": {
     "iopub.execute_input": "2023-01-13T03:08:04.433283Z",
     "iopub.status.busy": "2023-01-13T03:08:04.432825Z",
     "iopub.status.idle": "2023-01-13T03:08:04.443702Z",
     "shell.execute_reply": "2023-01-13T03:08:04.442530Z"
    },
    "papermill": {
     "duration": 0.067521,
     "end_time": "2023-01-13T03:08:04.445894",
     "exception": false,
     "start_time": "2023-01-13T03:08:04.378373",
     "status": "completed"
    },
    "tags": []
   },
   "outputs": [
    {
     "data": {
      "text/plain": [
       "1    275371\n",
       "0       125\n",
       "Name: target, dtype: int64"
      ]
     },
     "execution_count": 28,
     "metadata": {},
     "output_type": "execute_result"
    }
   ],
   "source": [
    "df_rows['target'].value_counts()"
   ]
  },
  {
   "cell_type": "markdown",
   "id": "298b1917",
   "metadata": {
    "papermill": {
     "duration": 0.052566,
     "end_time": "2023-01-13T03:08:04.551894",
     "exception": false,
     "start_time": "2023-01-13T03:08:04.499328",
     "status": "completed"
    },
    "tags": []
   },
   "source": [
    "## Save the dataframe"
   ]
  },
  {
   "cell_type": "code",
   "execution_count": 29,
   "id": "a022eb46",
   "metadata": {
    "execution": {
     "iopub.execute_input": "2023-01-13T03:08:04.661880Z",
     "iopub.status.busy": "2023-01-13T03:08:04.661390Z",
     "iopub.status.idle": "2023-01-13T03:08:06.445615Z",
     "shell.execute_reply": "2023-01-13T03:08:06.444293Z"
    },
    "papermill": {
     "duration": 1.842176,
     "end_time": "2023-01-13T03:08:06.448419",
     "exception": false,
     "start_time": "2023-01-13T03:08:04.606243",
     "status": "completed"
    },
    "tags": []
   },
   "outputs": [],
   "source": [
    "path = 'df_rows_w_folds.csv'\n",
    "df_rows.to_csv(path, index=False)\n"
   ]
  },
  {
   "cell_type": "code",
   "execution_count": 30,
   "id": "4c66317b",
   "metadata": {
    "execution": {
     "iopub.execute_input": "2023-01-13T03:08:06.557749Z",
     "iopub.status.busy": "2023-01-13T03:08:06.557305Z",
     "iopub.status.idle": "2023-01-13T03:08:07.655479Z",
     "shell.execute_reply": "2023-01-13T03:08:07.653986Z"
    },
    "papermill": {
     "duration": 1.15654,
     "end_time": "2023-01-13T03:08:07.658396",
     "exception": false,
     "start_time": "2023-01-13T03:08:06.501856",
     "status": "completed"
    },
    "tags": []
   },
   "outputs": [
    {
     "name": "stdout",
     "output_type": "stream",
     "text": [
      "__notebook__.ipynb  df_rows_w_folds.csv\r\n"
     ]
    }
   ],
   "source": [
    "!ls"
   ]
  },
  {
   "cell_type": "code",
   "execution_count": null,
   "id": "89050c64",
   "metadata": {
    "papermill": {
     "duration": 0.053494,
     "end_time": "2023-01-13T03:08:07.765297",
     "exception": false,
     "start_time": "2023-01-13T03:08:07.711803",
     "status": "completed"
    },
    "tags": []
   },
   "outputs": [],
   "source": []
  },
  {
   "cell_type": "code",
   "execution_count": null,
   "id": "f68c4906",
   "metadata": {
    "papermill": {
     "duration": 0.0547,
     "end_time": "2023-01-13T03:08:07.873913",
     "exception": false,
     "start_time": "2023-01-13T03:08:07.819213",
     "status": "completed"
    },
    "tags": []
   },
   "outputs": [],
   "source": []
  },
  {
   "cell_type": "code",
   "execution_count": null,
   "id": "37973ee8",
   "metadata": {
    "papermill": {
     "duration": 0.053898,
     "end_time": "2023-01-13T03:08:07.982754",
     "exception": false,
     "start_time": "2023-01-13T03:08:07.928856",
     "status": "completed"
    },
    "tags": []
   },
   "outputs": [],
   "source": []
  }
 ],
 "metadata": {
  "kernelspec": {
   "display_name": "Python 3",
   "language": "python",
   "name": "python3"
  },
  "language_info": {
   "codemirror_mode": {
    "name": "ipython",
    "version": 3
   },
   "file_extension": ".py",
   "mimetype": "text/x-python",
   "name": "python",
   "nbconvert_exporter": "python",
   "pygments_lexer": "ipython3",
   "version": "3.7.12"
  },
  "papermill": {
   "default_parameters": {},
   "duration": 92.675396,
   "end_time": "2023-01-13T03:08:08.961642",
   "environment_variables": {},
   "exception": null,
   "input_path": "__notebook__.ipynb",
   "output_path": "__notebook__.ipynb",
   "parameters": {},
   "start_time": "2023-01-13T03:06:36.286246",
   "version": "2.3.4"
  }
 },
 "nbformat": 4,
 "nbformat_minor": 5
}
